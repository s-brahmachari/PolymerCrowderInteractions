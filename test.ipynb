{
 "cells": [
  {
   "cell_type": "code",
   "execution_count": 1,
   "metadata": {},
   "outputs": [],
   "source": [
    "import numpy as np"
   ]
  },
  {
   "cell_type": "code",
   "execution_count": 5,
   "metadata": {},
   "outputs": [],
   "source": [
    "import sys\n",
    "sys.path.append('/home/sb95/PolymerCrowderInteractions/modules/')\n",
    "from ChromDynamics import MiChroM"
   ]
  },
  {
   "cell_type": "code",
   "execution_count": null,
   "metadata": {},
   "outputs": [
    {
     "name": "stdout",
     "output_type": "stream",
     "text": [
      "    ***************************************************************************************     \n",
      "     **** **** *** *** *** *** *** *** OpenMiChroM-1.0.7 *** *** *** *** *** *** **** ****      \n",
      "\n",
      "         OpenMiChroM is a Python library for performing chromatin dynamics simulations.         \n",
      "                            OpenMiChroM uses the OpenMM Python API,                             \n",
      "                employing the MiChroM (Minimal Chromatin Model) energy function.                \n",
      "      The chromatin dynamics simulations generate an ensemble of 3D chromosomal structures      \n",
      "      that are consistent with experimental Hi-C maps, also allows simulations of a single      \n",
      "                 or multiple chromosome chain using High-Performance Computing                  \n",
      "                            in different platforms (GPUs and CPUs).                             \n",
      "         OpenMiChroM documentation is available at https://open-michrom.readthedocs.io          \n",
      "\n",
      "         OpenMiChroM is described in: Oliveira Junior, A. B & Contessoto, V, G et. al.          \n",
      "      A Scalable Computational Approach for Simulating Complexes of Multiple Chromosomes.       \n",
      "                  Journal of Molecular Biology. doi:10.1016/j.jmb.2020.10.034.                  \n",
      "                                              and                                               \n",
      "                                 Oliveira Junior, A. B. et al.                                  \n",
      "     Chromosome Modeling on Downsampled Hi-C Maps Enhances the Compartmentalization Signal.     \n",
      "                        J. Phys. Chem. B, doi:10.1021/acs.jpcb.1c04174.                         \n",
      "\n",
      "                    Copyright (c) 2023, The OpenMiChroM development team at                     \n",
      "                                        Rice University                                         \n",
      "    ***************************************************************************************     \n"
     ]
    }
   ],
   "source": [
    "def initialize_simulation(name='opt_sim', platform='opencl', collapse=True, nblocks_collapse=args.nblocks_collapse, blocksize_collapse=20000):\n",
    "    #simulate\n",
    "    sim = MiChroM(name=name,temperature=1.0, time_step=0.01, collision_rate=0.1)\n",
    "    sim.setup(platform=platform)\n",
    "    sim.saveFolder(os.path.join(args.home,'output/'))\n",
    "    mychro = sim.createRandomGas(ChromSeq=os.path.join(args.home,\"input/seq.txt\"), isRing=True)\n",
    "    sim.loadStructure(mychro, center=True)\n",
    "\n",
    "    #add potentials\n",
    "    # sim.addFENEBonds(kfb=30.0)\n",
    "    sim.addHarmonicBonds(kfb=args.kb, r0=args.rb)\n",
    "    sim.addAngles(ka=args.ka) #, theta_rad=2.0*np.arcsin(0.85))\n",
    "    sim.addSelfAvoidance(Ecut=args.Ecut, k_rep=args.ksa, r0=args.rsa)\n",
    "    # sim.addGaussianSelfAvoidance(Ecut=args.Ecut, r0=args.rsa)\n",
    "    # sim.addRepulsiveSoftCore(Ecut=4.0)\n",
    "    sim.addCustomTypes(mu=args.mu, rc = args.rc, TypesTable=os.path.join(args.home,'input/lambda_current'))\n",
    "    # sim.addFlatBottomHarmonic(kr=0.1, n_rad=args.rconf)\n",
    "    sim.addCylindricalConfinement(r_conf=args.rconf, z_conf=args.zconf, kr=5.0)\n",
    "\n",
    "    if args.parA!=0:\n",
    "        polar_parA(sim)\n",
    "\n",
    "    if collapse:\n",
    "        print('Running collapse simulation')\n",
    "        for _ in range(nblocks_collapse): \n",
    "            sim.runSimBlock(blocksize_collapse, increment=False)\n",
    "        sim.saveStructure(mode = 'pdb')\n",
    "    return sim"
   ]
  },
  {
   "cell_type": "code",
   "execution_count": null,
   "metadata": {},
   "outputs": [],
   "source": []
  }
 ],
 "metadata": {
  "kernelspec": {
   "display_name": "openmm",
   "language": "python",
   "name": "python3"
  },
  "language_info": {
   "codemirror_mode": {
    "name": "ipython",
    "version": 3
   },
   "file_extension": ".py",
   "mimetype": "text/x-python",
   "name": "python",
   "nbconvert_exporter": "python",
   "pygments_lexer": "ipython3",
   "version": "3.11.4"
  }
 },
 "nbformat": 4,
 "nbformat_minor": 2
}
